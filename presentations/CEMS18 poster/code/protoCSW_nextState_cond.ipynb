{
 "cells": [
  {
   "cell_type": "code",
   "execution_count": 1,
   "metadata": {},
   "outputs": [
    {
     "name": "stderr",
     "output_type": "stream",
     "text": [
      "/Users/abeukers/anaconda/lib/python3.6/site-packages/h5py/__init__.py:34: FutureWarning: Conversion of the second argument of issubdtype from `float` to `np.floating` is deprecated. In future, it will be treated as `np.float64 == np.dtype(float).type`.\n",
      "  from ._conv import register_converters as _register_converters\n"
     ]
    }
   ],
   "source": [
    "import numpy as np\n",
    "import tensorflow as tf\n",
    "import matplotlib.pyplot as plt\n",
    "from cswNets import *\n",
    "\n",
    "%matplotlib inline\n",
    "%load_ext autoreload\n",
    "%reload_ext autoreload\n",
    "%autoreload 2"
   ]
  },
  {
   "cell_type": "markdown",
   "metadata": {},
   "source": [
    "# proto csw: next state questions, conditioned transitions"
   ]
  },
  {
   "cell_type": "code",
   "execution_count": 2,
   "metadata": {
    "collapsed": true
   },
   "outputs": [],
   "source": [
    "vocab = {\n",
    "   # states\n",
    "  'begin':0,\n",
    "  'push':1,'step':2,\n",
    "  'splash':3,'crumble':4,\n",
    "  'end':5,\n",
    "   # fillers\n",
    "  'alice':6,'bob':7,\n",
    "  'claire':8,'dave':9}\n",
    "\n",
    "# story structures\n",
    "s1 = 'begin %s push %s splash %s end' \n",
    "s2 = 'begin %s push %s crumble %s end'\n",
    "s3 = 'begin %s step %s splash %s end'\n",
    "s4 = 'begin %s step %s crumble %s end'\n",
    "\n",
    "def f(s,x,y):\n",
    "  \"\"\"takes in structure and fillers, returns story\"\"\"\n",
    "  filled = s % (x,y,x)\n",
    "  story = [vocab[w] for w in filled.split()]\n",
    "  return story\n",
    "\n",
    "def make_story_L(s_L,x,y):\n",
    "  \"\"\" takes list of structures, returns list of stories\"\"\"\n",
    "  story_L = []\n",
    "  for s in s_L:\n",
    "    story_L.append(f(s,x,y))\n",
    "  return story_L"
   ]
  },
  {
   "cell_type": "markdown",
   "metadata": {},
   "source": [
    "### transition statistics"
   ]
  },
  {
   "cell_type": "code",
   "execution_count": 3,
   "metadata": {
    "collapsed": true
   },
   "outputs": [],
   "source": [
    "s_L = [s1,s1,s1,s2]\n",
    "train_story_L = make_story_L(s_L,'dave','alice')\n",
    "s_L = [s1,s2,s2,s2]\n",
    "train_story_L.extend(make_story_L(s_L,'dave','bob'))\n",
    "\n",
    "s_L = [s1,s1,s1,s2]\n",
    "test_story_L = make_story_L(s_L,'claire','alice')\n",
    "s_L = [s1,s2,s2,s2]\n",
    "test_story_L.extend(make_story_L(s_L,'claire','bob'))"
   ]
  },
  {
   "cell_type": "markdown",
   "metadata": {},
   "source": [
    "### sample stories"
   ]
  },
  {
   "cell_type": "code",
   "execution_count": 4,
   "metadata": {},
   "outputs": [
    {
     "data": {
      "text/plain": [
       "[[0, 9, 1, 6, 3, 9, 5],\n",
       " [0, 9, 1, 6, 3, 9, 5],\n",
       " [0, 9, 1, 6, 3, 9, 5],\n",
       " [0, 9, 1, 6, 4, 9, 5],\n",
       " [0, 9, 1, 7, 3, 9, 5],\n",
       " [0, 9, 1, 7, 4, 9, 5],\n",
       " [0, 9, 1, 7, 4, 9, 5],\n",
       " [0, 9, 1, 7, 4, 9, 5]]"
      ]
     },
     "execution_count": 4,
     "metadata": {},
     "output_type": "execute_result"
    }
   ],
   "source": [
    "train_story_L"
   ]
  },
  {
   "cell_type": "code",
   "execution_count": 5,
   "metadata": {
    "collapsed": true
   },
   "outputs": [],
   "source": [
    "def make_transition_dataset(story_L):\n",
    "  \"\"\" given a list of stories,\n",
    "      makes X,Y datasets for training \"\"\"\n",
    "  X = []\n",
    "  Y = []\n",
    "  for story in story_L:\n",
    "    x = [story[0:2],story[2:4],story[4:6]]\n",
    "    y = [[story[2]],[story[4]],[story[6]]]\n",
    "    X.extend(x)\n",
    "    Y.extend(y)\n",
    "  return X,Y\n",
    "\n",
    "X_train,Y_train = make_transition_dataset(train_story_L)\n",
    "X_test,Y_test = make_transition_dataset(test_story_L)"
   ]
  },
  {
   "cell_type": "code",
   "execution_count": 6,
   "metadata": {
    "collapsed": true
   },
   "outputs": [],
   "source": [
    "vocab_size = len(vocab)"
   ]
  },
  {
   "cell_type": "markdown",
   "metadata": {},
   "source": [
    "## cells and architectures"
   ]
  },
  {
   "cell_type": "code",
   "execution_count": 7,
   "metadata": {
    "collapsed": true
   },
   "outputs": [],
   "source": [
    "arch = {'input_seq_len':2,\n",
    "       'output_seq_len':1,\n",
    "       'celldim': vocab_size,\n",
    "       'fix_vocab_size': vocab_size,\n",
    "       'rand_vocab_size': 0,\n",
    "       'embed_size': vocab_size}"
   ]
  },
  {
   "cell_type": "markdown",
   "metadata": {},
   "source": [
    "## train and eval"
   ]
  },
  {
   "cell_type": "code",
   "execution_count": 8,
   "metadata": {
    "collapsed": true
   },
   "outputs": [],
   "source": [
    "train_info = {'batch_size': 15,\n",
    "              'num_epochs': 3000,\n",
    "              'loss_op': tf.losses.mean_squared_error}"
   ]
  },
  {
   "cell_type": "code",
   "execution_count": 16,
   "metadata": {
    "collapsed": true
   },
   "outputs": [],
   "source": [
    "lstm = LSTM(arch,saving=False)\n",
    "rnn = RNN(arch,saving=False)"
   ]
  },
  {
   "cell_type": "code",
   "execution_count": 17,
   "metadata": {
    "collapsed": true
   },
   "outputs": [],
   "source": [
    "def run_k_experiments(net,train_info,k):\n",
    "  acc_L = []\n",
    "  for it in range(k):\n",
    "    time1 = dt.now()\n",
    "    net.reinitialize()\n",
    "    eval_data = net.train(X_train,Y_train,train_info,\n",
    "                          X_test,Y_test,train_info)\n",
    "    acc_L.append(eval_data['accuracy'])\n",
    "    print(it+1,dt.now()-time1)\n",
    "  return np.array(acc_L)"
   ]
  },
  {
   "cell_type": "code",
   "execution_count": 21,
   "metadata": {
    "scrolled": true
   },
   "outputs": [
    {
     "name": "stdout",
     "output_type": "stream",
     "text": [
      "reinitialize\n",
      "1 0:00:13.489613\n",
      "reinitialize\n",
      "2 0:00:13.297095\n",
      "reinitialize\n",
      "3 0:00:13.895273\n",
      "reinitialize\n",
      "1 0:00:15.749483\n",
      "reinitialize\n",
      "2 0:00:15.001612\n",
      "reinitialize\n",
      "3 0:00:15.047429\n"
     ]
    }
   ],
   "source": [
    "rnn_acc_L = run_k_experiments(rnn,train_info,3)\n",
    "lstm_acc_L = run_k_experiments(lstm,train_info,3)"
   ]
  },
  {
   "cell_type": "code",
   "execution_count": 22,
   "metadata": {},
   "outputs": [
    {
     "data": {
      "image/png": "[encoded data removed]",
      "text/plain": [
       "<matplotlib.figure.Figure at 0x126302588>"
      ]
     },
     "metadata": {},
     "output_type": "display_data"
    }
   ],
   "source": [
    "def mov_avg(X,wind):\n",
    "  X_L = []\n",
    "  for i in range(X.shape[1]-wind):\n",
    "    x = np.mean(X[:,i:i+wind],1)\n",
    "    X_L.append(x)\n",
    "  return np.array(X_L)\n",
    "\n",
    "mov_avg_wind = 20\n",
    "\n",
    "plt.figure(figsize=(10,10))\n",
    "plt.ylim((0,1))\n",
    "\n",
    "\n",
    "M = np.mean(mov_avg(lstm_acc_L,mov_avg_wind),1)\n",
    "sd = np.std(mov_avg(lstm_acc_L,mov_avg_wind),1)\n",
    "plt.plot(M,label='LSTM')\n",
    "plt.fill_between(range(len(M)),M-sd,M+sd,alpha=.3)\n",
    "  \n",
    "M = np.mean(mov_avg(rnn_acc_L,mov_avg_wind),1)\n",
    "sd = np.std(mov_avg(rnn_acc_L,mov_avg_wind),1)\n",
    "plt.plot(M,label='RNN')\n",
    "plt.fill_between(range(len(M)),M-sd,M+sd,alpha=.3)\n",
    "\n",
    "plt.axhline(1/(vocab_size),c='r')\n",
    "plt.legend(fontsize=15)\n",
    "title = 'ACCURACY_ProtoCSW-nextStateQ_cond7525'\n",
    "plt.title(title,size=20)\n",
    "plt.savefig(title)"
   ]
  }
 ],
 "metadata": {
  "kernelspec": {
   "display_name": "Python 3",
   "language": "python",
   "name": "python3"
  },
  "language_info": {
   "codemirror_mode": {
    "name": "ipython",
    "version": 3
   },
   "file_extension": ".py",
   "mimetype": "text/x-python",
   "name": "python",
   "nbconvert_exporter": "python",
   "pygments_lexer": "ipython3",
   "version": "3.6.1"
  }
 },
 "nbformat": 4,
 "nbformat_minor": 2
}
